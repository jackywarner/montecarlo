{
 "cells": [
  {
   "cell_type": "markdown",
   "metadata": {},
   "source": [
    "# Metadata\n",
    "\n",
    "* Title: **Final Project Report**\n",
    "* Class: DS 5100\n",
    "* Date: 4/27/2023\n",
    "* Student Name: Jack Warner\n",
    "* Student Net ID: jyw8jcu\n",
    "* This URL: <a URL to the notebook source of this document>\n",
    "* GitHub Repo URL: https://github.com/jackywarner/montecarlo"
   ]
  },
  {
   "cell_type": "markdown",
   "metadata": {},
   "source": [
    "# The Monte Carlo Module"
   ]
  },
  {
   "cell_type": "code",
   "execution_count": 3,
   "metadata": {},
   "outputs": [],
   "source": [
    "# A code block with your classes.\n",
    "import random\n",
    "import pandas as pd\n",
    "class Die:\n",
    "    def __init__(self, faces):\n",
    "        self.faces = faces\n",
    "        self.weights = pd.Series([1.0] * len(faces), index=faces)\n",
    "\n",
    "    def change_weight(self, face, weight):\n",
    "        if face not in self.faces:\n",
    "            raise ValueError(f\"Invalid face '{face}'\")\n",
    "        try:\n",
    "            weight = float(weight)\n",
    "        except ValueError:\n",
    "            raise ValueError(f\"Invalid weight '{weight}'\")\n",
    "        self.weights[face] = weight\n",
    "    \n",
    "    def roll(self, times=1):\n",
    "        outcomes = [random.choices(self.faces, weights=self.weights, k=1)[0] for _ in range(times)]\n",
    "        return outcomes\n",
    "    \n",
    "    def show_faces_and_weights(self):\n",
    "        return pd.DataFrame({'face': self.faces, 'weight': self.weights})\n",
    "\n",
    "class Game:\n",
    "    def __init__(self, dice):\n",
    "        self.dice = dice\n",
    "        self.results = None\n",
    "    \n",
    "    def play(self, times):\n",
    "        rolls = [die.roll(times) for die in self.dice]\n",
    "        self.results = pd.DataFrame(rolls).transpose()\n",
    "        self.results.columns = range(len(self.dice))\n",
    "        self.results.index.name = 'roll'\n",
    "    \n",
    "    def show_results(self, form='wide'):\n",
    "        if form == 'wide':\n",
    "            return self.results\n",
    "        elif form == 'narrow':\n",
    "            return pd.melt(self.results.reset_index(), id_vars=['roll'], var_name='die', value_name='face')\n",
    "        else:\n",
    "            raise ValueError(f\"Invalid form '{form}'\")\n",
    "\n",
    "class Analyzer:\n",
    "    def __init__(self, game):\n",
    "        self.game = game\n",
    "        self.data_type = type(game.dice[0].faces[0])\n",
    "        self.jackpot_results = None\n",
    "        self.combo_results = None\n",
    "        self.face_counts = None\n",
    "\n",
    "    def jackpot(self):\n",
    "        rolls = self.game.results\n",
    "        n_dice = len(self.game.dice)\n",
    "        jackpot_counts = 0\n",
    "        for i in range(n_dice):\n",
    "            first_face = self.game.dice[i].faces[0]\n",
    "            mode = rolls.iloc[:, i].mode()[0]\n",
    "            if mode == first_face:\n",
    "                jackpot_counts += 1\n",
    "        self.jackpot_results = pd.DataFrame({'jackpot_count': [jackpot_counts]}, index=[0])\n",
    "        return jackpot_counts\n",
    "    def combo(self):\n",
    "        \"\"\"\n",
    "        Compute the frequency of each possible combination of faces in the rolls.\n",
    "        \"\"\"\n",
    "        rolls = self.game.results\n",
    "        combos = [tuple(sorted(set(row))) for _, row in rolls.iterrows()]\n",
    "        combo_counts = pd.Series(combos).value_counts().sort_index()\n",
    "        combo_index = pd.MultiIndex.from_tuples(combo_counts.index, names=['combo'])\n",
    "        self.combo_results = pd.DataFrame({'combo_count': combo_counts}, index=combo_index)\n",
    "        return self.combo_results\n",
    "\n",
    "\n",
    "\n",
    "    def face_counts_per_roll(self):\n",
    "        rolls = self.game.results\n",
    "        face_counts = rolls.apply(pd.Series.value_counts).fillna(0).astype(int)\n",
    "        face_counts.index.name = 'roll'\n",
    "        self.face_counts = face_counts\n",
    "        return face_counts\n",
    "\n",
    "\n",
    "\n"
   ]
  },
  {
   "cell_type": "markdown",
   "metadata": {},
   "source": [
    "# Test Module"
   ]
  },
  {
   "cell_type": "code",
   "execution_count": 2,
   "metadata": {},
   "outputs": [],
   "source": [
    "# A code block with your test code.\n",
    "import unittest\n",
    "from montecarlo.montecarlo import *\n",
    "\n",
    "class TestDie(unittest.TestCase):\n",
    "\n",
    "    def test_change_weight_valid(self):\n",
    "        die = Die(['A', 'B', 'C'])\n",
    "        die.change_weight('B', 2.5)\n",
    "        self.assertEqual(die.weights['B'], 2.5)\n",
    "\n",
    "    def test_change_weight_invalid_face(self):\n",
    "        die = Die(['A', 'B', 'C'])\n",
    "        with self.assertRaises(ValueError):\n",
    "            die.change_weight('D', 1.0)\n",
    "\n",
    "    def test_change_weight_invalid_weight(self):\n",
    "        die = Die(['A', 'B', 'C'])\n",
    "        with self.assertRaises(ValueError):\n",
    "            die.change_weight('B', 'two')\n",
    "\n",
    "    def test_roll(self):\n",
    "        die = Die(['A', 'B', 'C'])\n",
    "        outcomes = die.roll(5)\n",
    "        self.assertEqual(len(outcomes), 5)\n",
    "\n",
    "    def test_show_faces_and_weights(self):\n",
    "        die = Die(['A', 'B', 'C'])\n",
    "        df = die.show_faces_and_weights()\n",
    "        self.assertEqual(df.loc[df['face'] == 'B', 'weight'].values[0], 1.0)\n",
    "\n",
    "class TestGame(unittest.TestCase):\n",
    "\n",
    "    def test_show_results_wide(self):\n",
    "        die1 = Die(['A', 'B', 'C'])\n",
    "        die2 = Die(['A', 'B', 'C'])\n",
    "        game = Game([die1, die2])\n",
    "        game.play(3)\n",
    "        df = game.show_results(form='wide')\n",
    "        self.assertEqual(df.shape, (3, 2))\n",
    "\n",
    "    def test_show_results_narrow(self):\n",
    "        die1 = Die(['A', 'B', 'C'])\n",
    "        die2 = Die(['A', 'B', 'C'])\n",
    "        game = Game([die1, die2])\n",
    "        game.play(3)\n",
    "        df = game.show_results(form='narrow')\n",
    "        self.assertEqual(df.shape, (6, 3))\n",
    "\n",
    "class TestAnalyzer(unittest.TestCase):\n",
    "\n",
    "    def test_jackpot(self):\n",
    "        die1 = Die(['A', 'B', 'C'])\n",
    "        die2 = Die(['A', 'B', 'C'])\n",
    "        game = Game([die1, die2])\n",
    "        game.play(3)\n",
    "        analyzer = Analyzer(game)\n",
    "        count = analyzer.jackpot()\n",
    "        self.assertGreaterEqual(count, 0)\n",
    "        \n",
    "    def test_combo(self):\n",
    "        die1 = Die(['A', 'B', 'C'])\n",
    "        die2 = Die(['A', 'B', 'C'])\n",
    "        game = Game([die1, die2])\n",
    "        game.play(3)\n",
    "        analyzer = Analyzer(game)\n",
    "        df = analyzer.combo()\n",
    "        self.assertEqual(df.shape, (3, 1))\n",
    "\n",
    "    def test_face_counts_per_roll(self):\n",
    "        die1 = Die(['A', 'B', 'C'])\n",
    "        die2 = Die(['A', 'B', 'C'])\n",
    "        game = Game([die1, die2])\n",
    "        game.play(3)\n",
    "        analyzer = Analyzer(game)\n",
    "        df = analyzer.face_counts_per_roll()\n",
    "        self.assertEqual(df.shape, (3, 2))\n",
    "\n",
    "if __name__ == '__main__':\n",
    "    unittest.main(verbosity=3)"
   ]
  },
  {
   "cell_type": "markdown",
   "metadata": {},
   "source": [
    "# Test Results"
   ]
  },
  {
   "cell_type": "code",
   "execution_count": null,
   "metadata": {},
   "outputs": [],
   "source": [
    "# A text block with the output of a successful test.\n",
    "PS C:\\Users\\21jac\\OneDrive\\Desktop\\montecarlo> & C:/Users/21jac/AppData/Local/Microsoft/WindowsApps/python3.10.exe c:/Users/21jac/OneDrive/Desktop/montecarlo/montecarlo_test.py\n",
    "test_jackpot (__main__.TestAnalyzer) ... ok\n",
    "test_change_weight_invalid_face (__main__.TestDie) ... ok\n",
    "test_change_weight_invalid_weight (__main__.TestDie) ... ok\n",
    "test_change_weight_valid (__main__.TestDie) ... ok\n",
    "test_roll (__main__.TestDie) ... ok\n",
    "test_show_faces_and_weights (__main__.TestDie) ... ok\n",
    "test_show_results_narrow (__main__.TestGame) ... ok\n",
    "test_show_results_wide (__main__.TestGame) ... ok\n",
    "\n",
    "----------------------------------------------------------------------\n",
    "Ran 10 tests in 0.011s\n",
    "\n",
    "OK"
   ]
  },
  {
   "cell_type": "markdown",
   "metadata": {},
   "source": [
    "# Scenarios\n",
    "\n",
    "Code blocks with your scenarios and their outputs. \n",
    "\n",
    "These should have appropriate import statements even though the code is now in the same notebook as the classes it calls. "
   ]
  },
  {
   "cell_type": "markdown",
   "metadata": {},
   "source": [
    "## Scenario 1"
   ]
  },
  {
   "cell_type": "code",
   "execution_count": 6,
   "metadata": {},
   "outputs": [
    {
     "name": "stdout",
     "output_type": "stream",
     "text": [
      "0.001\n",
      "0.003\n"
     ]
    },
    {
     "data": {
      "image/png": "[encoded data removed]",
      "text/plain": [
       "<Figure size 432x288 with 1 Axes>"
      ]
     },
     "metadata": {
      "needs_background": "light"
     },
     "output_type": "display_data"
    }
   ],
   "source": [
    "# Code blocks with output\n",
    "import matplotlib.pyplot as plt\n",
    "\n",
    "# create fair coin\n",
    "fair_coin = Die(['H', 'T'])\n",
    "\n",
    "# create unfair coin\n",
    "unfair_coin = Die(['H', 'T'])\n",
    "unfair_coin.change_weight('H', 5)\n",
    "\n",
    "# play game with all fair dice\n",
    "game1 = Game([fair_coin]*3)\n",
    "game1.play(1000)\n",
    "analyzer1 = Analyzer(game1)\n",
    "jackpot1 = analyzer1.jackpot()\n",
    "freq1 = jackpot1 / len(game1.results)\n",
    "print(freq1)\n",
    "\n",
    "# play game with 2 unfair dice and 1 fair die\n",
    "game2 = Game([unfair_coin, unfair_coin, fair_coin])\n",
    "game2.play(1000)\n",
    "analyzer2 = Analyzer(game2)\n",
    "jackpot2 = analyzer2.jackpot()\n",
    "freq2 = jackpot2 / len(game2.results)\n",
    "print(freq2)\n",
    "\n",
    "# plot results in a bar chart\n",
    "fig, ax = plt.subplots()\n",
    "ax.bar(['All fair dice', '2 unfair dice and 1 fair die'], [freq1, freq2])\n",
    "ax.set_ylabel('Relative frequency of jackpots')\n",
    "plt.show()"
   ]
  },
  {
   "cell_type": "markdown",
   "metadata": {},
   "source": [
    "## Scenario 2"
   ]
  },
  {
   "cell_type": "code",
   "execution_count": 10,
   "metadata": {},
   "outputs": [
    {
     "data": {
      "image/png": "[encoded data removed]",
      "text/plain": [
       "<Figure size 432x288 with 1 Axes>"
      ]
     },
     "metadata": {
      "needs_background": "light"
     },
     "output_type": "display_data"
    },
    {
     "data": {
      "image/png": "[encoded data removed]",
      "text/plain": [
       "<Figure size 432x288 with 1 Axes>"
      ]
     },
     "metadata": {
      "needs_background": "light"
     },
     "output_type": "display_data"
    },
    {
     "data": {
      "image/png": "[encoded data removed]",
      "text/plain": [
       "<Figure size 432x288 with 1 Axes>"
      ]
     },
     "metadata": {
      "needs_background": "light"
     },
     "output_type": "display_data"
    }
   ],
   "source": [
    "# Code blocks with output\n",
    "# Create fair die\n",
    "fair_die = Die([1, 2, 3, 4, 5, 6])\n",
    "\n",
    "# Create unfair dice\n",
    "unfair1_die = Die([1, 2, 3, 4, 5, 6])\n",
    "unfair1_die.change_weight(6, 5.0)\n",
    "\n",
    "unfair2_die = Die([1, 2, 3, 4, 5, 6])\n",
    "unfair2_die.change_weight(1, 5.0)\n",
    "\n",
    "# Play game with 5 fair dice\n",
    "game1_dice = [fair_die]*5\n",
    "game1 = Game(game1_dice)\n",
    "game1.play(10000)\n",
    "analyzer1 = Analyzer(game1)\n",
    "\n",
    "# Analyze results of game with 5 fair dice\n",
    "jackpot1 = analyzer1.jackpot()\n",
    "combo1 = analyzer1.combo()\n",
    "top10_combos1 = combo1.nlargest(10, 'combo_count')\n",
    "\n",
    "# Play game with 2 unfair dice of type 1, 1 unfair die of type 2, and the rest fair dice\n",
    "game2_dice = [unfair1_die]*2 + [unfair2_die] + [fair_die]*2\n",
    "game2 = Game(game2_dice)\n",
    "game2.play(10000)\n",
    "analyzer2 = Analyzer(game2)\n",
    "\n",
    "# Analyze results of game with 2 unfair dice of type 1, 1 unfair die of type 2, and the rest fair dice\n",
    "jackpot2 = analyzer2.jackpot()\n",
    "combo2 = analyzer2.combo()\n",
    "top10_combos2 = combo2.nlargest(10, 'combo_count')\n",
    "\n",
    "# Plot results\n",
    "import matplotlib.pyplot as plt\n",
    "\n",
    "# Bar chart of jackpot frequency for both games\n",
    "jackpot_freq = pd.DataFrame({'Game 1': [jackpot1], 'Game 2': [jackpot2]})\n",
    "jackpot_freq.plot(kind='bar')\n",
    "plt.title('Jackpot Frequency')\n",
    "plt.xlabel('Game')\n",
    "plt.ylabel('Relative Frequency')\n",
    "plt.show()\n",
    "\n",
    "# Bar chart of top 10 combinations of faces for game 1\n",
    "top10_combos1.plot(kind='bar')\n",
    "plt.title('Top 10 Combinations of Faces - Game 1')\n",
    "plt.xlabel('Combination of Faces')\n",
    "plt.ylabel('Frequency')\n",
    "plt.show()\n",
    "\n",
    "# Bar chart of top 10 combinations of faces for game 2\n",
    "top10_combos2.plot(kind='bar')\n",
    "plt.title('Top 10 Combinations of Faces - Game 2')\n",
    "plt.xlabel('Combination of Faces')\n",
    "plt.ylabel('Frequency')\n",
    "plt.show()\n"
   ]
  },
  {
   "cell_type": "markdown",
   "metadata": {},
   "source": [
    "## Scenario 3"
   ]
  },
  {
   "cell_type": "code",
   "execution_count": 12,
   "metadata": {},
   "outputs": [
    {
     "name": "stdout",
     "output_type": "stream",
     "text": [
      "Defaulting to user installation because normal site-packages is not writeable\n",
      "Requirement already satisfied: pyenchant in /sfs/qumulo/qhome/jyw8jcu/.local/lib/python3.8/site-packages (3.2.2)\n",
      "0.007\n"
     ]
    }
   ],
   "source": [
    "# Code blocks with output\n",
    "!pip install pyenchant\n",
    "import enchant\n",
    "english_dict = enchant.Dict(\"en_US\")\n",
    "\n",
    "import random\n",
    "\n",
    "freq_table = {\n",
    "    'A': 8.4966,\n",
    "    'B': 2.0720,\n",
    "    'C': 4.5388,\n",
    "    'D': 3.3844,\n",
    "    'E': 11.1607,\n",
    "    'F': 1.8121,\n",
    "    'G': 2.4705,\n",
    "    'H': 3.0034,\n",
    "    'I': 7.5448,\n",
    "    'J': 0.1965,\n",
    "    'K': 1.1016,\n",
    "    'L': 5.4893,\n",
    "    'M': 3.0129,\n",
    "    'N': 6.6544,\n",
    "    'O': 7.1635,\n",
    "    'P': 3.1671,\n",
    "    'Q': 0.1962,\n",
    "    'R': 7.5809,\n",
    "    'S': 5.7351,\n",
    "    'T': 6.9509,\n",
    "    'U': 3.6308,\n",
    "    'V': 1.0074,\n",
    "    'W': 1.2899,\n",
    "    'X': 0.2902,\n",
    "    'Y': 1.7779,\n",
    "    'Z': 0.2722\n",
    "}\n",
    "\n",
    "die = []\n",
    "for letter, weight in freq_table.items():\n",
    "    for i in range(int(weight * 100)):\n",
    "        die.append(letter)\n",
    "\n",
    "random.shuffle(die)\n",
    "\n",
    "import enchant\n",
    "\n",
    "english_dict = enchant.Dict(\"en_US\")\n",
    "\n",
    "results = []\n",
    "for i in range(1000):\n",
    "    rolls = random.choices(die, k=5)\n",
    "    word = ''.join(rolls)\n",
    "    if english_dict.check(word):\n",
    "        results.append(word)\n",
    "\n",
    "# print(len(results))\n",
    "print(len(results) / 1000)\n",
    "\n"
   ]
  },
  {
   "cell_type": "markdown",
   "metadata": {},
   "source": [
    "# Directory Listing\n",
    "\n",
    "A code block that executes the following bash command: \n",
    "\n",
    "```bash\n",
    "!ls -lRF -o\n",
    "```"
   ]
  },
  {
   "cell_type": "code",
   "execution_count": 13,
   "metadata": {},
   "outputs": [
    {
     "name": "stdout",
     "output_type": "stream",
     "text": [
      ".:\n",
      "total 44\n",
      "-rw-r--r-- 1 jyw8jcu 11234 May  2 21:52 FinalProjectSubmissionTemplate.ipynb\n",
      "-rw-r--r-- 1 jyw8jcu  4584 Apr  9 21:35 M10-HW.Rmd\n",
      "-rw-r--r-- 1 jyw8jcu     0 Feb  4 13:39 readme.md\n",
      "-rw-r--r-- 1 jyw8jcu  2379 Apr  4 20:09 Untitled1.ipynb\n",
      "drwxr-sr-x 2 jyw8jcu     0 May  2 21:47 Untitled Folder/\n",
      "\n",
      "./Untitled Folder:\n",
      "total 0\n"
     ]
    }
   ],
   "source": [
    "!ls -lRF -o"
   ]
  },
  {
   "cell_type": "markdown",
   "metadata": {
    "tags": []
   },
   "source": [
    "# Installation Output Listing\n",
    "    \n",
    "A code block that executes the code to install your your package and outputs a successful installation."
   ]
  },
  {
   "cell_type": "code",
   "execution_count": null,
   "metadata": {},
   "outputs": [],
   "source": [
    "# Installation commands"
   ]
  },
  {
   "cell_type": "code",
   "execution_count": null,
   "metadata": {},
   "outputs": [],
   "source": []
  }
 ],
 "metadata": {
  "kernelspec": {
   "display_name": "Python 3",
   "language": "python",
   "name": "python3"
  },
  "language_info": {
   "codemirror_mode": {
    "name": "ipython",
    "version": 3
   },
   "file_extension": ".py",
   "mimetype": "text/x-python",
   "name": "python",
   "nbconvert_exporter": "python",
   "pygments_lexer": "ipython3",
   "version": "3.8.8"
  },
  "widgets": {
   "application/vnd.jupyter.widget-state+json": {
    "state": {},
    "version_major": 2,
    "version_minor": 0
   }
  }
 },
 "nbformat": 4,
 "nbformat_minor": 5
}
