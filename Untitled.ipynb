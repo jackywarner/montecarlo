{
 "cells": [
  {
   "cell_type": "code",
   "execution_count": 6,
   "metadata": {},
   "outputs": [
    {
     "name": "stdout",
     "output_type": "stream",
     "text": [
      "Defaulting to user installation because normal site-packages is not writeable\n",
      "Collecting git+https://github.com/jackywarner/montecarlo2.git\n",
      "  Cloning https://github.com/jackywarner/montecarlo2.git to /tmp/pip-req-build-ai4tztvl\n",
      "Requirement already satisfied (use --upgrade to upgrade): montecarlo==1.0.0 from git+https://github.com/jackywarner/montecarlo2.git in /sfs/qumulo/qhome/jyw8jcu/.local/lib/python3.8/site-packages\n",
      "Requirement already satisfied: pandas in /sfs/applications/202212/software/standard/core/anaconda/2020.11-py3.8/lib/python3.8/site-packages (from montecarlo==1.0.0) (1.1.3)\n",
      "Requirement already satisfied: python-dateutil>=2.7.3 in /sfs/qumulo/qhome/jyw8jcu/.local/lib/python3.8/site-packages (from pandas->montecarlo==1.0.0) (2.8.2)\n",
      "Requirement already satisfied: numpy>=1.15.4 in /sfs/qumulo/qhome/jyw8jcu/.local/lib/python3.8/site-packages (from pandas->montecarlo==1.0.0) (1.24.3)\n",
      "Requirement already satisfied: pytz>=2017.2 in /sfs/applications/202212/software/standard/core/anaconda/2020.11-py3.8/lib/python3.8/site-packages (from pandas->montecarlo==1.0.0) (2020.1)\n",
      "Requirement already satisfied: six>=1.5 in /sfs/qumulo/qhome/jyw8jcu/.local/lib/python3.8/site-packages (from python-dateutil>=2.7.3->pandas->montecarlo==1.0.0) (1.16.0)\n",
      "Building wheels for collected packages: montecarlo\n",
      "  Building wheel for montecarlo (setup.py) ... \u001b[?25ldone\n",
      "\u001b[?25h  Created wheel for montecarlo: filename=montecarlo-1.0.0-py3-none-any.whl size=2530 sha256=171f84e6577fedd458c2b66d1aa11869423446d70d8003d2afaefbdb2d45b37b\n",
      "  Stored in directory: /tmp/pip-ephem-wheel-cache-_dvtccwa/wheels/b6/88/f9/fc532e902fbd7241216c75366c37d1396881c364a93c51291f\n",
      "Successfully built montecarlo\n"
     ]
    }
   ],
   "source": [
    "!pip install git+https://github.com/jackywarner/montecarlo2.git"
   ]
  },
  {
   "cell_type": "code",
   "execution_count": 9,
   "metadata": {},
   "outputs": [],
   "source": [
    "from montecarlo.montecarlo import Die, Game, Analyzer\n"
   ]
  },
  {
   "cell_type": "code",
   "execution_count": 11,
   "metadata": {},
   "outputs": [
    {
     "name": "stdout",
     "output_type": "stream",
     "text": [
      "0.0\n",
      "0.0\n"
     ]
    },
    {
     "data": {
      "image/png": "[encoded data removed]",
      "text/plain": [
       "<Figure size 432x288 with 1 Axes>"
      ]
     },
     "metadata": {
      "needs_background": "light"
     },
     "output_type": "display_data"
    }
   ],
   "source": [
    "import matplotlib.pyplot as plt\n",
    "\n",
    "# create fair coin\n",
    "fair_coin = Die(['H', 'T'])\n",
    "\n",
    "# create unfair coin\n",
    "unfair_coin = Die(['H', 'T'])\n",
    "unfair_coin.change_weight('H', 5)\n",
    "\n",
    "# play game with all fair dice\n",
    "game1 = Game([fair_coin]*3)\n",
    "game1.play(1000)\n",
    "analyzer1 = Analyzer(game1)\n",
    "jackpot1 = analyzer1.jackpot()\n",
    "freq1 = jackpot1 / len(game1.results)\n",
    "print(freq1)\n",
    "\n",
    "# play game with 2 unfair dice and 1 fair die\n",
    "game2 = Game([unfair_coin, unfair_coin, fair_coin])\n",
    "game2.play(1000)\n",
    "analyzer2 = Analyzer(game2)\n",
    "jackpot2 = analyzer2.jackpot()\n",
    "freq2 = jackpot2 / len(game2.results)\n",
    "print(freq2)\n",
    "\n",
    "# plot results in a bar chart\n",
    "fig, ax = plt.subplots()\n",
    "ax.bar(['All fair dice', '2 unfair dice and 1 fair die'], [freq1, freq2])\n",
    "ax.set_ylabel('Relative frequency of jackpots')\n",
    "plt.show()"
   ]
  },
  {
   "cell_type": "code",
   "execution_count": null,
   "metadata": {},
   "outputs": [],
   "source": []
  }
 ],
 "metadata": {
  "kernelspec": {
   "display_name": "Python 3.8",
   "language": "python",
   "name": "python-3.8"
  },
  "language_info": {
   "codemirror_mode": {
    "name": "ipython",
    "version": 3
   },
   "file_extension": ".py",
   "mimetype": "text/x-python",
   "name": "python",
   "nbconvert_exporter": "python",
   "pygments_lexer": "ipython3",
   "version": "3.8.8"
  }
 },
 "nbformat": 4,
 "nbformat_minor": 4
}
